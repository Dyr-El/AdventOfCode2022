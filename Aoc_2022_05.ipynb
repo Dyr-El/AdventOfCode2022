{
 "cells": [
  {
   "cell_type": "markdown",
   "id": "0f863bc7",
   "metadata": {},
   "source": [
    "# Day 2022-05: Supply Stacks"
   ]
  },
  {
   "cell_type": "code",
   "execution_count": null,
   "id": "e7ba6dbf",
   "metadata": {},
   "outputs": [],
   "source": [
    "year = 2022\n",
    "day  = 5"
   ]
  },
  {
   "cell_type": "code",
   "execution_count": null,
   "id": "93f010b0",
   "metadata": {},
   "outputs": [],
   "source": [
    "from local_settings import load_input\n",
    "content = load_input(year, day)\n",
    "print(f\"[{content[:100]}...]\")"
   ]
  },
  {
   "cell_type": "markdown",
   "id": "ee4d99ce",
   "metadata": {},
   "source": [
    "# Part 1"
   ]
  },
  {
   "cell_type": "code",
   "execution_count": null,
   "id": "6a7fb3c6",
   "metadata": {},
   "outputs": [],
   "source": [
    "# definitions for first part of problem solution\n",
    "from collections import deque, defaultdict\n",
    "import re\n",
    "\n",
    "intPattern = re.compile(r\"[+-]?[0-9]+\")\n",
    "def parseAllInts(line):\n",
    "    return tuple(map(int, intPattern.findall(line)))\n",
    "\n",
    "def processInput(inp, moveFunc):\n",
    "    stacks = defaultdict(deque)\n",
    "    for line in inp.splitlines():\n",
    "        if line.startswith(\"move\"):\n",
    "            moveFunc(stacks, *parseAllInts(line))\n",
    "        else:\n",
    "            for ci, c in enumerate(line):\n",
    "                if c.isalpha():\n",
    "                    stacks[ci // 4 + 1].appendleft(c)\n",
    "    return stacks\n",
    "\n",
    "def moveOneAtATime(stacks, n, source, destination):\n",
    "    for _ in range(n):\n",
    "        stacks[destination].append((stacks[source].pop()))\n",
    "\n",
    "def mergeTops(stacks):\n",
    "    return ''.join((stacks[key][-1] for key in sorted(stacks.keys())))"
   ]
  },
  {
   "cell_type": "markdown",
   "id": "e749ac16",
   "metadata": {},
   "source": [
    "## Examples:\n",
    "```\n",
    "    [D]    \n",
    "[N] [C]    \n",
    "[Z] [M] [P]\n",
    " 1   2   3 \n",
    "\n",
    "move 1 from 2 to 1\n",
    "move 3 from 1 to 3\n",
    "move 2 from 2 to 1\n",
    "move 1 from 1 to 2\n",
    "```"
   ]
  },
  {
   "cell_type": "code",
   "execution_count": null,
   "id": "296dd223",
   "metadata": {},
   "outputs": [],
   "source": [
    "# testing the examples\n",
    "exInp = \"\"\"    [D]    \n",
    "[N] [C]    \n",
    "[Z] [M] [P]\n",
    " 1   2   3 \n",
    "\n",
    "move 1 from 2 to 1\n",
    "move 3 from 1 to 3\n",
    "move 2 from 2 to 1\n",
    "move 1 from 1 to 2\"\"\"\n",
    "print(mergeTops(processInput(exInp, moveOneAtATime)))"
   ]
  },
  {
   "cell_type": "code",
   "execution_count": null,
   "id": "5d07d6f0",
   "metadata": {},
   "outputs": [],
   "source": [
    "# finding the solution\n",
    "print(mergeTops(processInput(content, moveOneAtATime)))"
   ]
  },
  {
   "cell_type": "markdown",
   "id": "63f34142",
   "metadata": {},
   "source": [
    "# Part 2"
   ]
  },
  {
   "cell_type": "code",
   "execution_count": null,
   "id": "3dd19ccf",
   "metadata": {},
   "outputs": [],
   "source": [
    "# definitions for second part of a problem solution\n",
    "def moveAllAtOnce(stacks, n, source, destination):\n",
    "    buffer = deque((stacks[source].pop() for _ in range(n)))\n",
    "    stacks[destination].extend((buffer.pop() for _ in range(n)))"
   ]
  },
  {
   "cell_type": "markdown",
   "id": "380d3358",
   "metadata": {},
   "source": [
    "## Examples:\n",
    "```\n",
    "```"
   ]
  },
  {
   "cell_type": "code",
   "execution_count": null,
   "id": "f9dcf531",
   "metadata": {},
   "outputs": [],
   "source": [
    "# testing the examples\n",
    "print(mergeTops(processInput(exInp, moveAllAtOnce)))"
   ]
  },
  {
   "cell_type": "code",
   "execution_count": null,
   "id": "21d311f1",
   "metadata": {},
   "outputs": [],
   "source": [
    "# finding the solution\n",
    "print(mergeTops(processInput(content, moveAllAtOnce)))"
   ]
  }
 ],
 "metadata": {
  "kernelspec": {
   "display_name": "Python 3.9.13 ('base')",
   "language": "python",
   "name": "python3"
  },
  "language_info": {
   "codemirror_mode": {
    "name": "ipython",
    "version": 3
   },
   "file_extension": ".py",
   "mimetype": "text/x-python",
   "name": "python",
   "nbconvert_exporter": "python",
   "pygments_lexer": "ipython3",
   "version": "3.9.13"
  },
  "vscode": {
   "interpreter": {
    "hash": "4420d077991eef1232340447788bb40f0080a1de6d94bc427a491caf0c238c1b"
   }
  }
 },
 "nbformat": 4,
 "nbformat_minor": 5
}
