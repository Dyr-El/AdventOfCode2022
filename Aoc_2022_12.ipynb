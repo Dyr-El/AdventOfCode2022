{
 "cells": [
  {
   "cell_type": "markdown",
   "id": "0f863bc7",
   "metadata": {},
   "source": [
    "# Day 2022-12: Hill Climbing Algorithm"
   ]
  },
  {
   "cell_type": "code",
   "execution_count": null,
   "id": "e7ba6dbf",
   "metadata": {},
   "outputs": [],
   "source": [
    "year = 2022\n",
    "day  = 12"
   ]
  },
  {
   "cell_type": "code",
   "execution_count": null,
   "id": "93f010b0",
   "metadata": {},
   "outputs": [],
   "source": [
    "from local_settings import load_input\n",
    "content = load_input(year, day)\n",
    "print(f\"[{content[:100]}...]\")"
   ]
  },
  {
   "cell_type": "markdown",
   "id": "ee4d99ce",
   "metadata": {},
   "source": [
    "# Part 1"
   ]
  },
  {
   "cell_type": "code",
   "execution_count": null,
   "id": "6a7fb3c6",
   "metadata": {},
   "outputs": [],
   "source": [
    "# definitions for first part of problem solution\n",
    "from collections import deque\n",
    "\n",
    "def parseInp(s):\n",
    "    d = dict()\n",
    "    for li, line in enumerate(s.splitlines()):\n",
    "        for ci, c in enumerate(line):\n",
    "            pos = complex(ci, li)\n",
    "            if c == \"S\":\n",
    "                height = 0\n",
    "                start = pos\n",
    "            elif c == \"E\":\n",
    "                height = ord('z') - ord('a')\n",
    "                end = pos\n",
    "            else:\n",
    "                height = ord(c) - ord('a')\n",
    "            d[pos] = height\n",
    "    return d, start, end\n",
    "\n",
    "def findWay(d, start, end):\n",
    "    dist = {start: 0}\n",
    "    rem = deque([start])\n",
    "    while len(rem) > 0:\n",
    "        pos = rem.popleft()\n",
    "        for delta in (complex(1, 0), complex(0, 1), complex(-1, 0), complex(0, -1)):\n",
    "            newPos = pos + delta\n",
    "            if newPos not in d:\n",
    "                continue\n",
    "            if newPos in dist:\n",
    "                continue\n",
    "            if d[newPos] - d[pos] > 1:\n",
    "                continue\n",
    "            if newPos == end:\n",
    "                return dist[pos] + 1\n",
    "            rem.append(newPos)\n",
    "            dist[newPos] = dist[pos] + 1\n"
   ]
  },
  {
   "cell_type": "markdown",
   "id": "e749ac16",
   "metadata": {},
   "source": [
    "## Examples:\n",
    "```\n",
    "Sabqponm\n",
    "abcryxxl\n",
    "accszExk\n",
    "acctuvwj\n",
    "abdefghi\n",
    "```"
   ]
  },
  {
   "cell_type": "code",
   "execution_count": null,
   "id": "296dd223",
   "metadata": {},
   "outputs": [],
   "source": [
    "# testing the examples\n",
    "ex = \"\"\"Sabqponm\n",
    "abcryxxl\n",
    "accszExk\n",
    "acctuvwj\n",
    "abdefghi\"\"\"\n",
    "d, start, end = parseInp(ex)\n",
    "print(findWay(d, start, end))"
   ]
  },
  {
   "cell_type": "code",
   "execution_count": null,
   "id": "5d07d6f0",
   "metadata": {},
   "outputs": [],
   "source": [
    "# finding the solution\n",
    "d, start, end = parseInp(content)\n",
    "print(findWay(d, start, end))"
   ]
  },
  {
   "cell_type": "markdown",
   "id": "63f34142",
   "metadata": {},
   "source": [
    "# Part 2"
   ]
  },
  {
   "cell_type": "code",
   "execution_count": null,
   "id": "3dd19ccf",
   "metadata": {},
   "outputs": [],
   "source": [
    "# definitions for second part of a problem solution\n",
    "def findReverseWay(d, end):\n",
    "    dist = {end: 0}\n",
    "    rem = deque([end])\n",
    "    while len(rem) > 0:\n",
    "        pos = rem.popleft()\n",
    "        for delta in (complex(1, 0), complex(0, 1), complex(-1, 0), complex(0, -1)):\n",
    "            newPos = pos + delta\n",
    "            if newPos not in d:\n",
    "                continue\n",
    "            if newPos in dist:\n",
    "                continue\n",
    "            if d[newPos] - d[pos] < -1:\n",
    "                continue\n",
    "            if d[newPos] == 0:\n",
    "                return dist[pos] + 1\n",
    "            rem.append(newPos)\n",
    "            dist[newPos] = dist[pos] + 1"
   ]
  },
  {
   "cell_type": "markdown",
   "id": "380d3358",
   "metadata": {},
   "source": [
    "## Examples:\n",
    "```\n",
    "```"
   ]
  },
  {
   "cell_type": "code",
   "execution_count": null,
   "id": "f9dcf531",
   "metadata": {},
   "outputs": [],
   "source": [
    "# testing the examples\n",
    "d, start, end = parseInp(ex)\n",
    "print(findReverseWay(d, end))"
   ]
  },
  {
   "cell_type": "code",
   "execution_count": null,
   "id": "21d311f1",
   "metadata": {},
   "outputs": [],
   "source": [
    "# finding the solution\n",
    "d, start, end = parseInp(content)\n",
    "print(findReverseWay(d, end))"
   ]
  }
 ],
 "metadata": {
  "kernelspec": {
   "display_name": "Python 3.9.13 ('base')",
   "language": "python",
   "name": "python3"
  },
  "language_info": {
   "codemirror_mode": {
    "name": "ipython",
    "version": 3
   },
   "file_extension": ".py",
   "mimetype": "text/x-python",
   "name": "python",
   "nbconvert_exporter": "python",
   "pygments_lexer": "ipython3",
   "version": "3.9.13"
  },
  "vscode": {
   "interpreter": {
    "hash": "4420d077991eef1232340447788bb40f0080a1de6d94bc427a491caf0c238c1b"
   }
  }
 },
 "nbformat": 4,
 "nbformat_minor": 5
}
