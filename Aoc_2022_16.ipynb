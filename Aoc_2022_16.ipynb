{
 "cells": [
  {
   "cell_type": "markdown",
   "id": "0f863bc7",
   "metadata": {},
   "source": [
    "# Day 2022-16: Proboscidea Volcanium"
   ]
  },
  {
   "cell_type": "code",
   "execution_count": 1,
   "id": "e7ba6dbf",
   "metadata": {},
   "outputs": [],
   "source": [
    "year = 2022\n",
    "day  = 16"
   ]
  },
  {
   "cell_type": "code",
   "execution_count": 2,
   "id": "93f010b0",
   "metadata": {},
   "outputs": [
    {
     "name": "stdout",
     "output_type": "stream",
     "text": [
      "Reading [https://adventofcode.com/2022/day/16/input]\n",
      "3111 characters read.\n",
      "[Valve EJ has flow rate=25; tunnel leads to valve MC\n",
      "Valve WC has flow rate=0; tunnels lead to valves...]\n"
     ]
    }
   ],
   "source": [
    "from local_settings import load_input\n",
    "content = load_input(year, day)\n",
    "print(f\"[{content[:100]}...]\")"
   ]
  },
  {
   "cell_type": "markdown",
   "id": "ee4d99ce",
   "metadata": {},
   "source": [
    "# Part 1"
   ]
  },
  {
   "cell_type": "code",
   "execution_count": 3,
   "id": "6a7fb3c6",
   "metadata": {},
   "outputs": [],
   "source": [
    "# definitions for first part of problem solution\n",
    "from collections import deque\n",
    "\n",
    "def parseInp(s):\n",
    "    valveMap = dict()\n",
    "    workingValves = dict()\n",
    "    for line in s.splitlines():\n",
    "        tokens = line.split()\n",
    "        valve = tokens[1]\n",
    "        rate = int(tokens[4][5:-1])\n",
    "        if rate > 0:\n",
    "            workingValves[valve] = rate\n",
    "        leadsTo = tokens[9:]\n",
    "        leadsTo = [item[:-1] for item in leadsTo[:-1]] + [leadsTo[-1]]\n",
    "        valveMap[valve] = leadsTo\n",
    "    return valveMap, workingValves\n",
    "\n",
    "def findMoves(startValve, valveMap):\n",
    "    rem = deque([startValve])\n",
    "    distances = {startValve: 0}\n",
    "    while len(rem) > 0:\n",
    "        valve = rem.popleft()\n",
    "        distanceFromStart = distances[valve]\n",
    "        for nextValve in valveMap[valve]:\n",
    "            if nextValve in distances:\n",
    "                continue\n",
    "            distances[nextValve] = distanceFromStart + 1\n",
    "            rem.append(nextValve)\n",
    "    return distances\n",
    "\n",
    "def mapMoves(valveMap, activeValves):\n",
    "    activeValveMap = dict()\n",
    "    for startValve in activeValves:\n",
    "        moves = findMoves(startValve, valveMap)\n",
    "        activeValveMap[startValve] = dict()\n",
    "        for endValve in activeValves:\n",
    "            if startValve == endValve:\n",
    "                continue\n",
    "            activeValveMap[startValve][endValve] = moves[endValve]\n",
    "    return activeValveMap\n",
    "\n",
    "def optimizeValves(mm, valves, startvalve, l=30):\n",
    "    rem = deque([(startvalve, set([startvalve]), 0, 0)])\n",
    "    bestScore = dict()\n",
    "    visited = dict()\n",
    "    while len(rem) > 0:\n",
    "        valve, openValves, moves, score = rem.popleft()\n",
    "        frozenValves = frozenset(openValves)\n",
    "        bestScore[frozenValves] = max(score, bestScore.get(frozenValves, 0))\n",
    "        key = (valve, frozenValves)\n",
    "        if key in visited and visited[key][0] <= moves and visited[key][1] >= score:\n",
    "            continue\n",
    "        visited[key] = (moves, score)\n",
    "        for nextValve in valves:\n",
    "            if nextValve in openValves:\n",
    "                continue\n",
    "            newMoves = moves + mm[valve][nextValve] + 1\n",
    "            if newMoves <= l:\n",
    "                newScore = score + (valves[nextValve] * (l - newMoves))\n",
    "                rem.append((nextValve, openValves | {nextValve}, newMoves, newScore))\n",
    "    return bestScore\n",
    "\n",
    "def calculateBest(inp, noMoves):\n",
    "    valveMap, activeValves = parseInp(inp)\n",
    "    activeValves[\"AA\"] = 0\n",
    "    activeValveMap = mapMoves(valveMap, activeValves)\n",
    "    return optimizeValves(activeValveMap, activeValves, \"AA\", noMoves)\n"
   ]
  },
  {
   "cell_type": "markdown",
   "id": "e749ac16",
   "metadata": {},
   "source": [
    "## Examples:\n",
    "```\n",
    "Valve AA has flow rate=0; tunnels lead to valves DD, II, BB\n",
    "Valve BB has flow rate=13; tunnels lead to valves CC, AA\n",
    "Valve CC has flow rate=2; tunnels lead to valves DD, BB\n",
    "Valve DD has flow rate=20; tunnels lead to valves CC, AA, EE\n",
    "Valve EE has flow rate=3; tunnels lead to valves FF, DD\n",
    "Valve FF has flow rate=0; tunnels lead to valves EE, GG\n",
    "Valve GG has flow rate=0; tunnels lead to valves FF, HH\n",
    "Valve HH has flow rate=22; tunnel leads to valve GG\n",
    "Valve II has flow rate=0; tunnels lead to valves AA, JJ\n",
    "Valve JJ has flow rate=21; tunnel leads to valve II\n",
    "```"
   ]
  },
  {
   "cell_type": "code",
   "execution_count": 4,
   "id": "296dd223",
   "metadata": {},
   "outputs": [
    {
     "name": "stdout",
     "output_type": "stream",
     "text": [
      "Example 1.1: 1651\n"
     ]
    }
   ],
   "source": [
    "# testing the examples\n",
    "ex = \"\"\"Valve AA has flow rate=0; tunnels lead to valves DD, II, BB\n",
    "Valve BB has flow rate=13; tunnels lead to valves CC, AA\n",
    "Valve CC has flow rate=2; tunnels lead to valves DD, BB\n",
    "Valve DD has flow rate=20; tunnels lead to valves CC, AA, EE\n",
    "Valve EE has flow rate=3; tunnels lead to valves FF, DD\n",
    "Valve FF has flow rate=0; tunnels lead to valves EE, GG\n",
    "Valve GG has flow rate=0; tunnels lead to valves FF, HH\n",
    "Valve HH has flow rate=22; tunnel leads to valve GG\n",
    "Valve II has flow rate=0; tunnels lead to valves AA, JJ\n",
    "Valve JJ has flow rate=21; tunnel leads to valve II\"\"\"\n",
    "bestScore = calculateBest(ex, 30)\n",
    "print(\"Example 1.1:\", max(bestScore.values()))"
   ]
  },
  {
   "cell_type": "code",
   "execution_count": 5,
   "id": "5d07d6f0",
   "metadata": {},
   "outputs": [
    {
     "name": "stdout",
     "output_type": "stream",
     "text": [
      "Part 1: 1737\n"
     ]
    }
   ],
   "source": [
    "# finding the solution\n",
    "bestScore = calculateBest(content, 30)\n",
    "print(\"Part 1:\", max(bestScore.values()))"
   ]
  },
  {
   "cell_type": "markdown",
   "id": "63f34142",
   "metadata": {},
   "source": [
    "# Part 2"
   ]
  },
  {
   "cell_type": "code",
   "execution_count": null,
   "id": "3dd19ccf",
   "metadata": {},
   "outputs": [],
   "source": []
  },
  {
   "cell_type": "markdown",
   "id": "380d3358",
   "metadata": {},
   "source": [
    "## Examples:\n",
    "```\n",
    "```"
   ]
  },
  {
   "cell_type": "code",
   "execution_count": 6,
   "id": "f9dcf531",
   "metadata": {},
   "outputs": [
    {
     "name": "stdout",
     "output_type": "stream",
     "text": [
      "Part 2: 1707\n"
     ]
    }
   ],
   "source": [
    "# testing the examples\n",
    "bestScore = calculateBest(ex, 26)\n",
    "b = max((v1 + v2 for k1, v1 in bestScore.items()\n",
    "                 for k2, v2 in bestScore.items()\n",
    "                 if k1 & k2 == frozenset([\"AA\"])))\n",
    "print(\"Part 2:\", b)"
   ]
  },
  {
   "cell_type": "code",
   "execution_count": 7,
   "id": "21d311f1",
   "metadata": {},
   "outputs": [
    {
     "name": "stdout",
     "output_type": "stream",
     "text": [
      "Part 2: 2216\n"
     ]
    }
   ],
   "source": [
    "# finding the solution\n",
    "bestScore = calculateBest(content, 26)\n",
    "b = max((v1 + v2 for k1, v1 in bestScore.items()\n",
    "                 for k2, v2 in bestScore.items()\n",
    "                 if k1 & k2 == frozenset([\"AA\"])))\n",
    "print(\"Part 2:\", b)"
   ]
  }
 ],
 "metadata": {
  "kernelspec": {
   "display_name": "Python 3.9.13 ('base')",
   "language": "python",
   "name": "python3"
  },
  "language_info": {
   "codemirror_mode": {
    "name": "ipython",
    "version": 3
   },
   "file_extension": ".py",
   "mimetype": "text/x-python",
   "name": "python",
   "nbconvert_exporter": "python",
   "pygments_lexer": "ipython3",
   "version": "3.9.13"
  },
  "vscode": {
   "interpreter": {
    "hash": "4420d077991eef1232340447788bb40f0080a1de6d94bc427a491caf0c238c1b"
   }
  }
 },
 "nbformat": 4,
 "nbformat_minor": 5
}
