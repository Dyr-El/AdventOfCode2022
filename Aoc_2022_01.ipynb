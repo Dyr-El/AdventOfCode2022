{
 "cells": [
  {
   "cell_type": "markdown",
   "id": "0f863bc7",
   "metadata": {},
   "source": [
    "# Day 2022-01: Calorie Counting"
   ]
  },
  {
   "cell_type": "code",
   "execution_count": null,
   "id": "e7ba6dbf",
   "metadata": {},
   "outputs": [],
   "source": [
    "year = 2022\n",
    "day  = 1"
   ]
  },
  {
   "cell_type": "code",
   "execution_count": null,
   "id": "93f010b0",
   "metadata": {},
   "outputs": [],
   "source": [
    "from local_settings import load_input\n",
    "content = load_input(year, day)\n",
    "print(f\"[{content[:100]}...]\")"
   ]
  },
  {
   "cell_type": "markdown",
   "id": "ee4d99ce",
   "metadata": {},
   "source": [
    "# Part 1"
   ]
  },
  {
   "cell_type": "code",
   "execution_count": null,
   "id": "6a7fb3c6",
   "metadata": {},
   "outputs": [],
   "source": [
    "# definitions for first part of problem solution\n",
    "def parseInp(s):\n",
    "    l = list()\n",
    "    for line in s.splitlines():\n",
    "        if line == \"\":\n",
    "            yield l\n",
    "            l = []\n",
    "        else:\n",
    "            l.append(int(line))\n",
    "    if l:\n",
    "        yield(l)\n",
    "\n",
    "def carryMax(s, noOfElevs=1):\n",
    "    return sum(sorted((sum(l) for l in parseInp(s)))[-noOfElevs:])"
   ]
  },
  {
   "cell_type": "markdown",
   "id": "e749ac16",
   "metadata": {},
   "source": [
    "## Examples:\n",
    "```\n",
    "1000\n",
    "2000\n",
    "3000\n",
    "\n",
    "4000\n",
    "\n",
    "5000\n",
    "6000\n",
    "\n",
    "7000\n",
    "8000\n",
    "9000\n",
    "\n",
    "10000\n",
    "```"
   ]
  },
  {
   "cell_type": "code",
   "execution_count": null,
   "id": "296dd223",
   "metadata": {},
   "outputs": [],
   "source": [
    "# testing the examples\n",
    "ex1 = \"\"\"1000\n",
    "2000\n",
    "3000\n",
    "\n",
    "4000\n",
    "\n",
    "5000\n",
    "6000\n",
    "\n",
    "7000\n",
    "8000\n",
    "9000\n",
    "\n",
    "10000\"\"\"\n",
    "print(carryMax(ex1))"
   ]
  },
  {
   "cell_type": "code",
   "execution_count": null,
   "id": "5d07d6f0",
   "metadata": {},
   "outputs": [],
   "source": [
    "# finding the solution\n",
    "print(carryMax(content))"
   ]
  },
  {
   "cell_type": "markdown",
   "id": "63f34142",
   "metadata": {},
   "source": [
    "# Part 2"
   ]
  },
  {
   "cell_type": "code",
   "execution_count": null,
   "id": "3dd19ccf",
   "metadata": {},
   "outputs": [],
   "source": [
    "# definitions for second part of a problem solution"
   ]
  },
  {
   "cell_type": "markdown",
   "id": "380d3358",
   "metadata": {},
   "source": [
    "## Examples:\n",
    "```\n",
    "```"
   ]
  },
  {
   "cell_type": "code",
   "execution_count": null,
   "id": "f9dcf531",
   "metadata": {},
   "outputs": [],
   "source": [
    "# testing the examples\n",
    "print(carryMax(ex1, 3))"
   ]
  },
  {
   "cell_type": "code",
   "execution_count": null,
   "id": "21d311f1",
   "metadata": {},
   "outputs": [],
   "source": [
    "# finding the solution\n",
    "print(carryMax(content, 3))"
   ]
  }
 ],
 "metadata": {
  "kernelspec": {
   "display_name": "Python 3.9.13 ('base')",
   "language": "python",
   "name": "python3"
  },
  "language_info": {
   "codemirror_mode": {
    "name": "ipython",
    "version": 3
   },
   "file_extension": ".py",
   "mimetype": "text/x-python",
   "name": "python",
   "nbconvert_exporter": "python",
   "pygments_lexer": "ipython3",
   "version": "3.9.13"
  },
  "vscode": {
   "interpreter": {
    "hash": "4420d077991eef1232340447788bb40f0080a1de6d94bc427a491caf0c238c1b"
   }
  }
 },
 "nbformat": 4,
 "nbformat_minor": 5
}
