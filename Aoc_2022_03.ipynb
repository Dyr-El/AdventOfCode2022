{
 "cells": [
  {
   "cell_type": "markdown",
   "id": "0f863bc7",
   "metadata": {},
   "source": [
    "# Day 2022-03: _template-title_"
   ]
  },
  {
   "cell_type": "code",
   "execution_count": null,
   "id": "e7ba6dbf",
   "metadata": {},
   "outputs": [],
   "source": [
    "year = 2022\n",
    "day  = 3"
   ]
  },
  {
   "cell_type": "code",
   "execution_count": null,
   "id": "93f010b0",
   "metadata": {},
   "outputs": [],
   "source": [
    "from local_settings import load_input\n",
    "content = load_input(year, day)\n",
    "print(f\"[{content[:100]}...]\")"
   ]
  },
  {
   "cell_type": "markdown",
   "id": "ee4d99ce",
   "metadata": {},
   "source": [
    "# Part 1"
   ]
  },
  {
   "cell_type": "code",
   "execution_count": null,
   "id": "6a7fb3c6",
   "metadata": {},
   "outputs": [],
   "source": [
    "# definitions for first part of problem solution\n"
   ]
  },
  {
   "cell_type": "markdown",
   "id": "e749ac16",
   "metadata": {},
   "source": [
    "## Examples:\n",
    "```\n",
    "```"
   ]
  },
  {
   "cell_type": "code",
   "execution_count": null,
   "id": "296dd223",
   "metadata": {},
   "outputs": [],
   "source": [
    "# testing the examples\n"
   ]
  },
  {
   "cell_type": "code",
   "execution_count": null,
   "id": "5d07d6f0",
   "metadata": {},
   "outputs": [],
   "source": [
    "# finding the solution\n"
   ]
  },
  {
   "cell_type": "markdown",
   "id": "63f34142",
   "metadata": {},
   "source": [
    "# Part 2"
   ]
  },
  {
   "cell_type": "code",
   "execution_count": null,
   "id": "3dd19ccf",
   "metadata": {},
   "outputs": [],
   "source": [
    "# definitions for second part of a problem solution"
   ]
  },
  {
   "cell_type": "markdown",
   "id": "380d3358",
   "metadata": {},
   "source": [
    "## Examples:\n",
    "```\n",
    "```"
   ]
  },
  {
   "cell_type": "code",
   "execution_count": null,
   "id": "f9dcf531",
   "metadata": {},
   "outputs": [],
   "source": [
    "# testing the examples"
   ]
  },
  {
   "cell_type": "code",
   "execution_count": null,
   "id": "21d311f1",
   "metadata": {},
   "outputs": [],
   "source": [
    "# finding the solution\n"
   ]
  }
 ],
 "metadata": {
  "kernelspec": {
   "display_name": "Python 3.9.12 ('base')",
   "language": "python",
   "name": "python3"
  },
  "language_info": {
   "codemirror_mode": {
    "name": "ipython",
    "version": 3
   },
   "file_extension": ".py",
   "mimetype": "text/x-python",
   "name": "python",
   "nbconvert_exporter": "python",
   "pygments_lexer": "ipython3",
   "version": "3.9.12"
  },
  "vscode": {
   "interpreter": {
    "hash": "26b41e701b9231918f8329cfe003d300e3582e92b2efa9bd361dfdb186f62974"
   }
  }
 },
 "nbformat": 4,
 "nbformat_minor": 5
}
