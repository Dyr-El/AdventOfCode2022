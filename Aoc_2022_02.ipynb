{
 "cells": [
  {
   "cell_type": "markdown",
   "id": "0f863bc7",
   "metadata": {},
   "source": [
    "# Day 2022-02: _template-title_"
   ]
  },
  {
   "cell_type": "code",
   "execution_count": 1,
   "id": "e7ba6dbf",
   "metadata": {},
   "outputs": [],
   "source": [
    "year = 2022\n",
    "day  = 2"
   ]
  },
  {
   "cell_type": "code",
   "execution_count": 2,
   "id": "93f010b0",
   "metadata": {},
   "outputs": [
    {
     "name": "stdout",
     "output_type": "stream",
     "text": [
      "Reading [https://adventofcode.com/2022/day/2/input]\n",
      "10000 characters read.\n",
      "[A Y\n",
      "B X\n",
      "C X\n",
      "A Z\n",
      "B Y\n",
      "C X\n",
      "C X\n",
      "C X\n",
      "C X\n",
      "C X\n",
      "A Z\n",
      "B Y\n",
      "C X\n",
      "A Z\n",
      "A Z\n",
      "B Y\n",
      "A Z\n",
      "B X\n",
      "C Z\n",
      "C X\n",
      "C X\n",
      "B Y\n",
      "C X\n",
      "A X\n",
      "B Y\n",
      "...]\n"
     ]
    }
   ],
   "source": [
    "from local_settings import load_input\n",
    "content = load_input(year, day)\n",
    "print(f\"[{content[:100]}...]\")"
   ]
  },
  {
   "cell_type": "markdown",
   "id": "ee4d99ce",
   "metadata": {},
   "source": [
    "# Part 1"
   ]
  },
  {
   "cell_type": "code",
   "execution_count": 3,
   "id": "6a7fb3c6",
   "metadata": {},
   "outputs": [],
   "source": [
    "# definitions for first part of problem solution\n",
    "interpret1 = {\"A\": \"Rock\", \"B\": \"Paper\", \"C\": \"Scissors\", \"X\": \"Rock\", \"Y\": \"Paper\", \"Z\": \"Scissors\"}\n",
    "def parseInp(inp, interp=interpret1):\n",
    "    for s in inp.splitlines():\n",
    "        yield tuple(map(lambda x: interp[x], s.split()))\n",
    "\n",
    "def result(op, me):\n",
    "    if op == me:\n",
    "        return 3\n",
    "    if (op, me) in ((\"Rock\", \"Paper\"), (\"Paper\", \"Scissors\"), (\"Scissors\", \"Rock\")):\n",
    "        return 6\n",
    "    return 0\n",
    "\n",
    "def score(me):\n",
    "    return {\"Rock\": 1, \"Paper\": 2, \"Scissors\": 3}[me]\n",
    "\n",
    "def maxScore(s):\n",
    "    return sum((result(op, me) + score(me) for op, me in parseInp(s)))"
   ]
  },
  {
   "cell_type": "markdown",
   "id": "e749ac16",
   "metadata": {},
   "source": [
    "## Examples:\n",
    "```\n",
    "A Y\n",
    "B X\n",
    "C Z\n",
    "```"
   ]
  },
  {
   "cell_type": "code",
   "execution_count": 4,
   "id": "296dd223",
   "metadata": {},
   "outputs": [
    {
     "name": "stdout",
     "output_type": "stream",
     "text": [
      "15\n"
     ]
    }
   ],
   "source": [
    "# testing the examples\n",
    "ex1 = \"\"\"A Y\n",
    "B X\n",
    "C Z\"\"\"\n",
    "print(maxScore(ex1))"
   ]
  },
  {
   "cell_type": "code",
   "execution_count": 5,
   "id": "5d07d6f0",
   "metadata": {},
   "outputs": [
    {
     "name": "stdout",
     "output_type": "stream",
     "text": [
      "13009\n"
     ]
    }
   ],
   "source": [
    "# finding the solution\n",
    "print(maxScore(content))"
   ]
  },
  {
   "cell_type": "markdown",
   "id": "63f34142",
   "metadata": {},
   "source": [
    "# Part 2"
   ]
  },
  {
   "cell_type": "code",
   "execution_count": 6,
   "id": "3dd19ccf",
   "metadata": {},
   "outputs": [],
   "source": [
    "# definitions for second part of a problem solution\n",
    "interpret2 = {\"A\": \"Rock\", \"B\": \"Paper\", \"C\": \"Scissors\", \"X\": 0, \"Y\": 3, \"Z\": 6}\n",
    "def carefulScore(s):\n",
    "    return sum((result(op, me) + score(me)\n",
    "                for op, res in parseInp(s, interpret2)\n",
    "                for me in (\"Rock\", \"Paper\", \"Scissors\") if result(op, me) == res))"
   ]
  },
  {
   "cell_type": "markdown",
   "id": "380d3358",
   "metadata": {},
   "source": [
    "## Examples:\n",
    "```\n",
    "```"
   ]
  },
  {
   "cell_type": "code",
   "execution_count": 7,
   "id": "f9dcf531",
   "metadata": {},
   "outputs": [
    {
     "name": "stdout",
     "output_type": "stream",
     "text": [
      "12\n"
     ]
    }
   ],
   "source": [
    "# testing the examples\n",
    "print(carefulScore(ex1))"
   ]
  },
  {
   "cell_type": "code",
   "execution_count": 8,
   "id": "21d311f1",
   "metadata": {},
   "outputs": [
    {
     "name": "stdout",
     "output_type": "stream",
     "text": [
      "10398\n"
     ]
    }
   ],
   "source": [
    "# finding the solution\n",
    "print(carefulScore(content))"
   ]
  }
 ],
 "metadata": {
  "kernelspec": {
   "display_name": "Python 3.9.13 ('base')",
   "language": "python",
   "name": "python3"
  },
  "language_info": {
   "codemirror_mode": {
    "name": "ipython",
    "version": 3
   },
   "file_extension": ".py",
   "mimetype": "text/x-python",
   "name": "python",
   "nbconvert_exporter": "python",
   "pygments_lexer": "ipython3",
   "version": "3.9.13"
  },
  "vscode": {
   "interpreter": {
    "hash": "4420d077991eef1232340447788bb40f0080a1de6d94bc427a491caf0c238c1b"
   }
  }
 },
 "nbformat": 4,
 "nbformat_minor": 5
}
