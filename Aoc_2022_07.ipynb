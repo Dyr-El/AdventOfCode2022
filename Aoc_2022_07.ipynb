{
 "cells": [
  {
   "cell_type": "markdown",
   "id": "0f863bc7",
   "metadata": {},
   "source": [
    "# Day 2022-07: No Space Left On Device"
   ]
  },
  {
   "cell_type": "code",
   "execution_count": null,
   "id": "e7ba6dbf",
   "metadata": {},
   "outputs": [],
   "source": [
    "year = 2022\n",
    "day  = 7"
   ]
  },
  {
   "cell_type": "code",
   "execution_count": null,
   "id": "93f010b0",
   "metadata": {},
   "outputs": [],
   "source": [
    "from local_settings import load_input\n",
    "content = load_input(year, day)\n",
    "print(f\"[{content[:100]}...]\")"
   ]
  },
  {
   "cell_type": "markdown",
   "id": "ee4d99ce",
   "metadata": {},
   "source": [
    "# Part 1"
   ]
  },
  {
   "cell_type": "code",
   "execution_count": null,
   "id": "6a7fb3c6",
   "metadata": {},
   "outputs": [],
   "source": [
    "# definitions for first part of problem solution\n",
    "def changeDir(cwd, tokens):\n",
    "    path = tokens[2]\n",
    "    if path == \"/\":\n",
    "        return ()\n",
    "    elif path == \"..\":\n",
    "        return cwd[:-1]\n",
    "    else:\n",
    "        return cwd + (path,)\n",
    "\n",
    "def updateDirs(dirs, cwd, tokens):\n",
    "    for i in range(len(cwd) + 1):\n",
    "        path = cwd[:i]\n",
    "        dirs[path] = dirs.get(path, 0) + int(tokens[0])\n",
    "\n",
    "def isCd(tokens):\n",
    "    return tokens[0] == \"$\" and tokens[1] == \"cd\"\n",
    "\n",
    "def isFile(tokens):\n",
    "    return (all((c.isdigit() for c in tokens[0])))\n",
    "\n",
    "def parseInp(s):\n",
    "    cwd = ()\n",
    "    dirs = dict()\n",
    "    for line in s.splitlines():\n",
    "        tokens = line.split()\n",
    "        if isCd(tokens):\n",
    "            cwd = changeDir(cwd, tokens)\n",
    "        elif isFile(tokens):\n",
    "            updateDirs(dirs, cwd, tokens)\n",
    "    return dirs\n",
    "\n",
    "def findDir(dirs, func):\n",
    "    for dpath, dsize in dirs.items():\n",
    "        if func(dpath, dsize):\n",
    "            yield dpath, dsize\n",
    "\n",
    "def findSumLess(dirs, size):\n",
    "    return sum((dsize for _, dsize in findDir(dirs, lambda _, ds: ds < size)))\n"
   ]
  },
  {
   "cell_type": "markdown",
   "id": "e749ac16",
   "metadata": {},
   "source": [
    "## Examples:\n",
    "```\n",
    "$ cd /\n",
    "$ ls\n",
    "dir a\n",
    "14848514 b.txt\n",
    "8504156 c.dat\n",
    "dir d\n",
    "$ cd a\n",
    "$ ls\n",
    "dir e\n",
    "29116 f\n",
    "2557 g\n",
    "62596 h.lst\n",
    "$ cd e\n",
    "$ ls\n",
    "584 i\n",
    "$ cd ..\n",
    "$ cd ..\n",
    "$ cd d\n",
    "$ ls\n",
    "4060174 j\n",
    "8033020 d.log\n",
    "5626152 d.ext\n",
    "7214296 k\n",
    "```"
   ]
  },
  {
   "cell_type": "code",
   "execution_count": null,
   "id": "296dd223",
   "metadata": {},
   "outputs": [],
   "source": [
    "# testing the examples\n",
    "ex = \"\"\"$ cd /\n",
    "$ ls\n",
    "dir a\n",
    "14848514 b.txt\n",
    "8504156 c.dat\n",
    "dir d\n",
    "$ cd a\n",
    "$ ls\n",
    "dir e\n",
    "29116 f\n",
    "2557 g\n",
    "62596 h.lst\n",
    "$ cd e\n",
    "$ ls\n",
    "584 i\n",
    "$ cd ..\n",
    "$ cd ..\n",
    "$ cd d\n",
    "$ ls\n",
    "4060174 j\n",
    "8033020 d.log\n",
    "5626152 d.ext\n",
    "7214296 k\"\"\"\n",
    "dirs = parseInp(ex)\n",
    "print(findSumLess(dirs, 100_000))"
   ]
  },
  {
   "cell_type": "code",
   "execution_count": null,
   "id": "5d07d6f0",
   "metadata": {},
   "outputs": [],
   "source": [
    "# finding the solution\n",
    "dirs = parseInp(content)\n",
    "print(findSumLess(dirs, 100_000))"
   ]
  },
  {
   "cell_type": "markdown",
   "id": "63f34142",
   "metadata": {},
   "source": [
    "# Part 2"
   ]
  },
  {
   "cell_type": "code",
   "execution_count": null,
   "id": "3dd19ccf",
   "metadata": {},
   "outputs": [],
   "source": [
    "# definitions for second part of a problem solution\n",
    "def freeUp(total, needed, dirs):\n",
    "    outmost = dirs[()]\n",
    "    free = total - outmost\n",
    "    additional_needed = needed - free\n",
    "    return min((dv for dv in dirs.values() if dv >= additional_needed))"
   ]
  },
  {
   "cell_type": "markdown",
   "id": "380d3358",
   "metadata": {},
   "source": [
    "## Examples:\n",
    "```\n",
    "```"
   ]
  },
  {
   "cell_type": "code",
   "execution_count": null,
   "id": "f9dcf531",
   "metadata": {},
   "outputs": [],
   "source": [
    "# testing the examples\n",
    "dirs = parseInp(ex)\n",
    "print(freeUp(70_000_000, 30_000_000, dirs))"
   ]
  },
  {
   "cell_type": "code",
   "execution_count": null,
   "id": "21d311f1",
   "metadata": {},
   "outputs": [],
   "source": [
    "# finding the solution\n",
    "dirs = parseInp(content)\n",
    "print(freeUp(70_000_000, 30_000_000, dirs))"
   ]
  }
 ],
 "metadata": {
  "kernelspec": {
   "display_name": "Python 3.9.13 ('base')",
   "language": "python",
   "name": "python3"
  },
  "language_info": {
   "codemirror_mode": {
    "name": "ipython",
    "version": 3
   },
   "file_extension": ".py",
   "mimetype": "text/x-python",
   "name": "python",
   "nbconvert_exporter": "python",
   "pygments_lexer": "ipython3",
   "version": "3.9.13"
  },
  "vscode": {
   "interpreter": {
    "hash": "4420d077991eef1232340447788bb40f0080a1de6d94bc427a491caf0c238c1b"
   }
  }
 },
 "nbformat": 4,
 "nbformat_minor": 5
}
