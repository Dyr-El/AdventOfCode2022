{
 "cells": [
  {
   "cell_type": "markdown",
   "id": "0f863bc7",
   "metadata": {},
   "source": [
    "# Day 2022-09: Rope Bridge"
   ]
  },
  {
   "cell_type": "code",
   "execution_count": null,
   "id": "e7ba6dbf",
   "metadata": {},
   "outputs": [],
   "source": [
    "year = 2022\n",
    "day  = 9"
   ]
  },
  {
   "cell_type": "code",
   "execution_count": null,
   "id": "93f010b0",
   "metadata": {},
   "outputs": [],
   "source": [
    "from local_settings import load_input\n",
    "content = load_input(year, day)\n",
    "print(f\"[{content[:100]}...]\")"
   ]
  },
  {
   "cell_type": "markdown",
   "id": "ee4d99ce",
   "metadata": {},
   "source": [
    "# Part 1"
   ]
  },
  {
   "cell_type": "code",
   "execution_count": null,
   "id": "6a7fb3c6",
   "metadata": {},
   "outputs": [],
   "source": [
    "# definitions for first part of problem solution\n",
    "from math import floor, ceil\n",
    "\n",
    "def parseInp(s):\n",
    "    for line in s.splitlines():\n",
    "        tokens = line.split()\n",
    "        yield tokens[0], int(tokens[1])\n",
    "\n",
    "directions = {\"U\":complex(0, 1), \"D\": complex(0, -1), \"R\": complex(1, 0), \"L\":complex(-1, 0)}\n",
    "\n",
    "def moveOne(dir, state):\n",
    "    state[0] += directions[dir]\n",
    "    for i in range(1, len(state)):\n",
    "        head, tail = state[i-1:i+1]\n",
    "        if abs(head.real - tail.real) > 1 or abs(head.imag - tail.imag) > 1:\n",
    "            tail = (head + tail) / 2\n",
    "            if floor(tail.real) < tail.real < ceil(tail.real):\n",
    "                tail = complex(head.real, tail.imag)\n",
    "            if floor(tail.imag) < tail.imag < ceil(tail.imag):\n",
    "                tail = complex(tail.real, head.imag)\n",
    "        state[i] = tail\n",
    "    return {state[-1]}\n",
    "\n",
    "def move(dir, steps, state):\n",
    "    positions = set()\n",
    "    for _ in range(steps):\n",
    "        positions |= moveOne(dir, state)\n",
    "    return positions\n",
    "\n",
    "def countTailPositions(moves, length):\n",
    "    state = [complex(0, 0)]*length\n",
    "    positions = set()\n",
    "    for dir, steps in moves:\n",
    "        positions |= move(dir, steps, state)\n",
    "    return len(positions)"
   ]
  },
  {
   "cell_type": "markdown",
   "id": "e749ac16",
   "metadata": {},
   "source": [
    "## Examples:\n",
    "```\n",
    "```"
   ]
  },
  {
   "cell_type": "code",
   "execution_count": null,
   "id": "296dd223",
   "metadata": {},
   "outputs": [],
   "source": [
    "# testing the examples\n",
    "ex1 = \"\"\"R 4\n",
    "U 4\n",
    "L 3\n",
    "D 1\n",
    "R 4\n",
    "D 1\n",
    "L 5\n",
    "R 2\"\"\"\n",
    "print(countTailPositions(parseInp(ex1), 2))"
   ]
  },
  {
   "cell_type": "code",
   "execution_count": null,
   "id": "5d07d6f0",
   "metadata": {},
   "outputs": [],
   "source": [
    "# finding the solution\n",
    "print(countTailPositions(parseInp(content), 2))"
   ]
  },
  {
   "cell_type": "markdown",
   "id": "63f34142",
   "metadata": {},
   "source": [
    "# Part 2"
   ]
  },
  {
   "cell_type": "code",
   "execution_count": null,
   "id": "3dd19ccf",
   "metadata": {},
   "outputs": [],
   "source": [
    "# definitions for second part of a problem solution\n"
   ]
  },
  {
   "cell_type": "markdown",
   "id": "380d3358",
   "metadata": {},
   "source": [
    "## Examples:\n",
    "```\n",
    "R 5\n",
    "U 8\n",
    "L 8\n",
    "D 3\n",
    "R 17\n",
    "D 10\n",
    "L 25\n",
    "U 20\n",
    "```"
   ]
  },
  {
   "cell_type": "code",
   "execution_count": null,
   "id": "f9dcf531",
   "metadata": {},
   "outputs": [],
   "source": [
    "# testing the examples\n",
    "print(countTailPositions(parseInp(ex1), 10))\n",
    "ex2 = \"\"\"R 5\n",
    "U 8\n",
    "L 8\n",
    "D 3\n",
    "R 17\n",
    "D 10\n",
    "L 25\n",
    "U 20\"\"\"\n",
    "print(countTailPositions(parseInp(ex2), 10))"
   ]
  },
  {
   "cell_type": "code",
   "execution_count": null,
   "id": "21d311f1",
   "metadata": {},
   "outputs": [],
   "source": [
    "# finding the solution\n",
    "print(countTailPositions(parseInp(content), 10))"
   ]
  }
 ],
 "metadata": {
  "kernelspec": {
   "display_name": "Python 3.9.13 ('base')",
   "language": "python",
   "name": "python3"
  },
  "language_info": {
   "codemirror_mode": {
    "name": "ipython",
    "version": 3
   },
   "file_extension": ".py",
   "mimetype": "text/x-python",
   "name": "python",
   "nbconvert_exporter": "python",
   "pygments_lexer": "ipython3",
   "version": "3.9.13"
  },
  "vscode": {
   "interpreter": {
    "hash": "4420d077991eef1232340447788bb40f0080a1de6d94bc427a491caf0c238c1b"
   }
  }
 },
 "nbformat": 4,
 "nbformat_minor": 5
}
