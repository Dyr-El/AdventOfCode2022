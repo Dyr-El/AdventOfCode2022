{
 "cells": [
  {
   "cell_type": "markdown",
   "id": "0f863bc7",
   "metadata": {},
   "source": [
    "# Day 2022-15: Beacon Exclusion Zone"
   ]
  },
  {
   "cell_type": "code",
   "execution_count": null,
   "id": "e7ba6dbf",
   "metadata": {},
   "outputs": [],
   "source": [
    "year = 2022\n",
    "day  = 15"
   ]
  },
  {
   "cell_type": "code",
   "execution_count": null,
   "id": "93f010b0",
   "metadata": {},
   "outputs": [],
   "source": [
    "from local_settings import load_input\n",
    "content = load_input(year, day)\n",
    "print(f\"[{content[:100]}...]\")"
   ]
  },
  {
   "cell_type": "markdown",
   "id": "ee4d99ce",
   "metadata": {},
   "source": [
    "# Part 1"
   ]
  },
  {
   "cell_type": "code",
   "execution_count": null,
   "id": "6a7fb3c6",
   "metadata": {},
   "outputs": [],
   "source": [
    "# definitions for first part of problem solution\n",
    "import re\n",
    "\n",
    "linePattern = re.compile(r\"Sensor at x=(-?\\d+), y=(-?\\d+): closest beacon is at x=(-?\\d+), y=(-?\\d+)\")\n",
    "\n",
    "def parseInp(s):\n",
    "    sensors = list()\n",
    "    beacons = set()\n",
    "    for line in s.splitlines():\n",
    "        m = linePattern.match(line)\n",
    "        if m:\n",
    "            sx, sy, bx, by = map(int, m.groups())\n",
    "            dist = abs(bx - sx) + abs(by - sy)\n",
    "            sensors.append((complex(sx, sy), dist))\n",
    "            beacons.add(complex(bx, by))\n",
    "        else:\n",
    "            print(line)\n",
    "    return sensors, beacons\n",
    "\n",
    "def rangesInLine(sensors, linenr):\n",
    "    for sensor in sensors:\n",
    "        ydist = abs(sensor[0].imag - linenr)\n",
    "        if ydist > sensor[1]:\n",
    "            continue\n",
    "        ydist = sensor[1] - ydist\n",
    "        yield (sensor[0].real - ydist, sensor[0].real + ydist + 1)\n",
    "\n",
    "def mergeRanges(ranges):\n",
    "    ranges = sorted(ranges)\n",
    "    l = list()\n",
    "    lastRange = ranges[0]\n",
    "    for range in ranges[1:]:\n",
    "        if range[0] > lastRange[1] + 1:\n",
    "            l.append(lastRange)\n",
    "            lastRange = range\n",
    "        else:\n",
    "            lastRange = (min(range[0], lastRange[0]), max(range[1], lastRange[1]))\n",
    "    l.append(lastRange)\n",
    "    return l\n",
    "\n",
    "def countNonBeacon(ranges, beacons, line):\n",
    "    count = 0\n",
    "    for range in ranges:\n",
    "        count += range[1] - range[0] - 1\n",
    "        countBeacons = sum((range[0] <= beacon.real < range[1] for beacon in beacons if beacon.imag == line))\n",
    "        count -= countBeacons\n",
    "    return int(count)"
   ]
  },
  {
   "cell_type": "markdown",
   "id": "e749ac16",
   "metadata": {},
   "source": [
    "## Examples:\n",
    "```\n",
    "Sensor at x=2, y=18: closest beacon is at x=-2, y=15\n",
    "Sensor at x=9, y=16: closest beacon is at x=10, y=16\n",
    "Sensor at x=13, y=2: closest beacon is at x=15, y=3\n",
    "Sensor at x=12, y=14: closest beacon is at x=10, y=16\n",
    "Sensor at x=10, y=20: closest beacon is at x=10, y=16\n",
    "Sensor at x=14, y=17: closest beacon is at x=10, y=16\n",
    "Sensor at x=8, y=7: closest beacon is at x=2, y=10\n",
    "Sensor at x=2, y=0: closest beacon is at x=2, y=10\n",
    "Sensor at x=0, y=11: closest beacon is at x=2, y=10\n",
    "Sensor at x=20, y=14: closest beacon is at x=25, y=17\n",
    "Sensor at x=17, y=20: closest beacon is at x=21, y=22\n",
    "Sensor at x=16, y=7: closest beacon is at x=15, y=3\n",
    "Sensor at x=14, y=3: closest beacon is at x=15, y=3\n",
    "Sensor at x=20, y=1: closest beacon is at x=15, y=3\n",
    "```"
   ]
  },
  {
   "cell_type": "code",
   "execution_count": null,
   "id": "296dd223",
   "metadata": {},
   "outputs": [],
   "source": [
    "# testing the examples\n",
    "ex = \"\"\"Sensor at x=2, y=18: closest beacon is at x=-2, y=15\n",
    "Sensor at x=9, y=16: closest beacon is at x=10, y=16\n",
    "Sensor at x=13, y=2: closest beacon is at x=15, y=3\n",
    "Sensor at x=12, y=14: closest beacon is at x=10, y=16\n",
    "Sensor at x=10, y=20: closest beacon is at x=10, y=16\n",
    "Sensor at x=14, y=17: closest beacon is at x=10, y=16\n",
    "Sensor at x=8, y=7: closest beacon is at x=2, y=10\n",
    "Sensor at x=2, y=0: closest beacon is at x=2, y=10\n",
    "Sensor at x=0, y=11: closest beacon is at x=2, y=10\n",
    "Sensor at x=20, y=14: closest beacon is at x=25, y=17\n",
    "Sensor at x=17, y=20: closest beacon is at x=21, y=22\n",
    "Sensor at x=16, y=7: closest beacon is at x=15, y=3\n",
    "Sensor at x=14, y=3: closest beacon is at x=15, y=3\n",
    "Sensor at x=20, y=1: closest beacon is at x=15, y=3\"\"\"\n",
    "sensors, beacons = parseInp(ex)\n",
    "print(\"Ex 1.1:\", countNonBeacon(mergeRanges(rangesInLine(sensors, 10)), beacons, 10))"
   ]
  },
  {
   "cell_type": "code",
   "execution_count": null,
   "id": "5d07d6f0",
   "metadata": {},
   "outputs": [],
   "source": [
    "# finding the solution\n",
    "sensors, beacons = parseInp(content)\n",
    "print(\"Part 1:\", countNonBeacon(mergeRanges(rangesInLine(sensors, 2000000)), beacons, 2000000))"
   ]
  },
  {
   "cell_type": "markdown",
   "id": "63f34142",
   "metadata": {},
   "source": [
    "# Part 2"
   ]
  },
  {
   "cell_type": "code",
   "execution_count": null,
   "id": "3dd19ccf",
   "metadata": {},
   "outputs": [],
   "source": [
    "# definitions for second part of a problem solution\n",
    "def findCommonSegment(sens1, sens2):\n",
    "    if sens1[0].real > sens2[0].real:\n",
    "        sens1, sens2 = sens2, sens1\n",
    "    pos1, d1 = sens1\n",
    "    pos2, d2 = sens2\n",
    "    dist = pos1 - pos2\n",
    "    dist = int(abs(dist.real)) + int(abs(dist.imag))\n",
    "    sumDist = abs(d1) + abs(d2)\n",
    "    if sumDist + 2 == dist:\n",
    "        x1 = int(pos1.real)\n",
    "        y1 = int(pos1.imag)\n",
    "        x2 = int(pos2.real)\n",
    "        y2 = int(pos2.imag)\n",
    "        xx1 = max(x1, x2 - d2 - 1)\n",
    "        xx2 = min(x2, x1 + d1 + 1)\n",
    "        if y2 > y1:\n",
    "            yy1 = min(y2, y1 + d1 + 1)\n",
    "            yy2 = max(y1, y2 - d2 - 1)\n",
    "            delta = complex(1, -1)\n",
    "        else:\n",
    "            yy1 = max(y2, y1 - d1 - 1)\n",
    "            yy2 = min(y1, y2 + d2 + 1)\n",
    "            delta = complex(1, 1)\n",
    "        return complex(xx1, yy1), complex(xx2, yy2), delta\n",
    "    else:\n",
    "        return None\n",
    "\n",
    "def findAllCommonSegments(sensors):\n",
    "    for sens1idx in range(len(sensors)):\n",
    "        sens1 = sensors[sens1idx]\n",
    "        for sens2idx in range(sens1idx + 1, len(sensors)):\n",
    "            sens2 = sensors[sens2idx]\n",
    "            common = findCommonSegment(sens1, sens2)\n",
    "            if common:\n",
    "                yield common\n",
    "\n",
    "def findAllCommonPoints(sensors):\n",
    "    for segm1 in findAllCommonSegments(sensors):\n",
    "        if segm1[-1] != complex(1, 1):\n",
    "            continue\n",
    "        for segm2 in findAllCommonSegments(sensors):\n",
    "            if segm2[-1] != complex(1, -1):\n",
    "                continue\n",
    "            segments = sorted((segm1, segm2), key=lambda x:(x[0].real, x[0].imag))\n",
    "            p1, p2 = segments[0][0], segments[1][0]\n",
    "            delta = p2.real - p1.real\n",
    "            p1 = p1 + delta * segments[0][-1]\n",
    "            if int(abs(p1.imag - p2.imag)) % 2 != 0:\n",
    "                continue\n",
    "            delta = int(abs(p1.imag - p2.imag)) // 2\n",
    "            p1 = p1 + delta * segments[0][-1]\n",
    "            p2 = p2 + delta * segments[1][-1]\n",
    "            if p1 == p2:\n",
    "                yield p1\n",
    "\n",
    "def testPoint(point, sensors, beacons):\n",
    "    if point in beacons:\n",
    "        return False\n",
    "    for sensor in sensors:\n",
    "        dist = point - sensor[0]\n",
    "        if abs(dist.real) + abs(dist.imag) <= sensor[1]:\n",
    "            return False\n",
    "    return True"
   ]
  },
  {
   "cell_type": "markdown",
   "id": "380d3358",
   "metadata": {},
   "source": [
    "## Examples:\n",
    "```\n",
    "```"
   ]
  },
  {
   "cell_type": "code",
   "execution_count": null,
   "id": "f9dcf531",
   "metadata": {},
   "outputs": [],
   "source": [
    "# testing the examples\n",
    "sensors, beacons = parseInp(ex)\n",
    "sensors.sort(key=lambda z:(z[0].real, z[0].imag))\n",
    "solutions = {point for point in findAllCommonPoints(sensors) if testPoint(point, sensors, beacons)}\n",
    "solution = solutions.pop()\n",
    "print(\"Ex 2.1:\", int(solution.real * 4_000_000 + solution.imag))"
   ]
  },
  {
   "cell_type": "code",
   "execution_count": null,
   "id": "21d311f1",
   "metadata": {},
   "outputs": [],
   "source": [
    "# finding the solution\n",
    "sensors, beacons = parseInp(content)\n",
    "sensors.sort(key=lambda z:(z[0].real, z[0].imag))\n",
    "solutions = {point for point in findAllCommonPoints(sensors) if testPoint(point, sensors, beacons)}\n",
    "solution = solutions.pop()\n",
    "print(\"Part 2:\", int(solution.real * 4_000_000 + solution.imag))"
   ]
  }
 ],
 "metadata": {
  "kernelspec": {
   "display_name": "Python 3.9.13 ('base')",
   "language": "python",
   "name": "python3"
  },
  "language_info": {
   "codemirror_mode": {
    "name": "ipython",
    "version": 3
   },
   "file_extension": ".py",
   "mimetype": "text/x-python",
   "name": "python",
   "nbconvert_exporter": "python",
   "pygments_lexer": "ipython3",
   "version": "3.9.13"
  },
  "vscode": {
   "interpreter": {
    "hash": "4420d077991eef1232340447788bb40f0080a1de6d94bc427a491caf0c238c1b"
   }
  }
 },
 "nbformat": 4,
 "nbformat_minor": 5
}
