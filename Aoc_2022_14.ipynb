{
 "cells": [
  {
   "cell_type": "markdown",
   "id": "0f863bc7",
   "metadata": {},
   "source": [
    "# Day 2022-14: Regolith Reservoir"
   ]
  },
  {
   "cell_type": "code",
   "execution_count": null,
   "id": "e7ba6dbf",
   "metadata": {},
   "outputs": [],
   "source": [
    "year = 2022\n",
    "day  = 14"
   ]
  },
  {
   "cell_type": "code",
   "execution_count": null,
   "id": "93f010b0",
   "metadata": {},
   "outputs": [],
   "source": [
    "from local_settings import load_input\n",
    "content = load_input(year, day)\n",
    "print(f\"[{content[:100]}...]\")"
   ]
  },
  {
   "cell_type": "markdown",
   "id": "ee4d99ce",
   "metadata": {},
   "source": [
    "# Part 1"
   ]
  },
  {
   "cell_type": "code",
   "execution_count": null,
   "id": "6a7fb3c6",
   "metadata": {},
   "outputs": [],
   "source": [
    "# definitions for first part of problem solution\n",
    "def parseInp(s):\n",
    "    for line in s.splitlines():\n",
    "        l = list()\n",
    "        tokens = line.split(' -> ')\n",
    "        for token in tokens:\n",
    "            frx, fry = map(int, token.split(','))\n",
    "            l.append(complex(frx, fry))\n",
    "        yield l\n",
    "\n",
    "def drawInitialCave(lines):\n",
    "    d = dict()\n",
    "    for line in lines:\n",
    "        pos = line[0]\n",
    "        for dest in line[1:]:\n",
    "            delta = (dest - pos) / abs(dest - pos)\n",
    "            while pos != dest:\n",
    "                d[pos] = \"#\"\n",
    "                pos += delta\n",
    "        d[dest] = \"#\"\n",
    "    return d\n",
    "\n",
    "def findXmin(l):\n",
    "    return int(min((x.real for x in l)))\n",
    "def findXmax(l):\n",
    "    return int(max((x.real for x in l)))\n",
    "def findYmin(l):\n",
    "    return int(min((y.imag for y in l)))\n",
    "def findYmax(l):\n",
    "    return int(max((y.imag for y in l)))\n",
    "\n",
    "def printCave(d):\n",
    "    xmin, xmax = findXmin(d), findXmax(d)\n",
    "    ymin, ymax = findYmin(d), findYmax(d)\n",
    "    for y in range(ymin, ymax+1):\n",
    "        for x in range(xmin, xmax+1):\n",
    "            pos = complex(x, y)\n",
    "            if pos in d:\n",
    "                print(d[pos], end=\"\")\n",
    "            else:\n",
    "                print(\".\", end=\"\")\n",
    "        print()\n",
    "\n",
    "down = complex(0, 1)\n",
    "downLeft = complex(-1, 1)\n",
    "downRight = complex(1, 1)\n",
    "def pourSand1(d):\n",
    "    ymax = findYmax(d)\n",
    "    count = 0\n",
    "    while True:\n",
    "        sandPos = complex(500, 0)\n",
    "        while True:\n",
    "            for delta in (down, downLeft, downRight, 0):\n",
    "                newSandPos = sandPos + delta\n",
    "                if sandPos + delta not in d and newSandPos.imag < ymax + 2:\n",
    "                    break\n",
    "            if newSandPos.imag > ymax:\n",
    "                return count\n",
    "            if newSandPos != sandPos:\n",
    "                sandPos = newSandPos\n",
    "                continue\n",
    "            d[sandPos] = \"o\"\n",
    "            count += 1\n",
    "            break\n"
   ]
  },
  {
   "cell_type": "markdown",
   "id": "e749ac16",
   "metadata": {},
   "source": [
    "## Examples:\n",
    "```\n",
    "498,4 -> 498,6 -> 496,6\n",
    "503,4 -> 502,4 -> 502,9 -> 494,9\n",
    "```"
   ]
  },
  {
   "cell_type": "code",
   "execution_count": null,
   "id": "296dd223",
   "metadata": {},
   "outputs": [],
   "source": [
    "# testing the examples\n",
    "ex = \"\"\"498,4 -> 498,6 -> 496,6\n",
    "503,4 -> 502,4 -> 502,9 -> 494,9\"\"\"\n",
    "d = drawInitialCave(parseInp(ex))\n",
    "print(pourSand1(d))"
   ]
  },
  {
   "cell_type": "code",
   "execution_count": null,
   "id": "5d07d6f0",
   "metadata": {},
   "outputs": [],
   "source": [
    "# finding the solution\n",
    "d = drawInitialCave(parseInp(content))\n",
    "print(pourSand1(d))"
   ]
  },
  {
   "cell_type": "markdown",
   "id": "63f34142",
   "metadata": {},
   "source": [
    "# Part 2"
   ]
  },
  {
   "cell_type": "code",
   "execution_count": null,
   "id": "3dd19ccf",
   "metadata": {},
   "outputs": [],
   "source": [
    "# definitions for second part of a problem solution\n",
    "def pourSand2(d):\n",
    "    ymax = findYmax(d)\n",
    "    count = 0\n",
    "    while True:\n",
    "        sandPos = complex(500, 0)\n",
    "        while True:\n",
    "            for delta in (down, downLeft, downRight, 0):\n",
    "                newSandPos = sandPos + delta\n",
    "                if sandPos + delta not in d and newSandPos.imag < ymax + 2:\n",
    "                    break\n",
    "            if newSandPos != sandPos:\n",
    "                sandPos = newSandPos\n",
    "                continue\n",
    "            d[sandPos] = \"o\"\n",
    "            count += 1\n",
    "            if sandPos == complex(500, 0):\n",
    "                return count\n",
    "            break"
   ]
  },
  {
   "cell_type": "markdown",
   "id": "380d3358",
   "metadata": {},
   "source": [
    "## Examples:\n",
    "```\n",
    "```"
   ]
  },
  {
   "cell_type": "code",
   "execution_count": null,
   "id": "f9dcf531",
   "metadata": {},
   "outputs": [],
   "source": [
    "# testing the examples\n",
    "d = drawInitialCave(parseInp(ex))\n",
    "print(pourSand2(d))"
   ]
  },
  {
   "cell_type": "code",
   "execution_count": null,
   "id": "21d311f1",
   "metadata": {},
   "outputs": [],
   "source": [
    "# finding the solution\n",
    "d = drawInitialCave(parseInp(content))\n",
    "print(pourSand2(d))"
   ]
  }
 ],
 "metadata": {
  "kernelspec": {
   "display_name": "Python 3.9.13 ('base')",
   "language": "python",
   "name": "python3"
  },
  "language_info": {
   "codemirror_mode": {
    "name": "ipython",
    "version": 3
   },
   "file_extension": ".py",
   "mimetype": "text/x-python",
   "name": "python",
   "nbconvert_exporter": "python",
   "pygments_lexer": "ipython3",
   "version": "3.9.13"
  },
  "vscode": {
   "interpreter": {
    "hash": "4420d077991eef1232340447788bb40f0080a1de6d94bc427a491caf0c238c1b"
   }
  }
 },
 "nbformat": 4,
 "nbformat_minor": 5
}
