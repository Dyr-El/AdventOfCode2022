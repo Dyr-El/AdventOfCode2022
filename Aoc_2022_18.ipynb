{
 "cells": [
  {
   "cell_type": "markdown",
   "id": "0f863bc7",
   "metadata": {},
   "source": [
    "# Day 2022-18: Boiling Boulders"
   ]
  },
  {
   "cell_type": "code",
   "execution_count": null,
   "id": "e7ba6dbf",
   "metadata": {},
   "outputs": [],
   "source": [
    "year = 2022\n",
    "day  = 18"
   ]
  },
  {
   "cell_type": "code",
   "execution_count": null,
   "id": "93f010b0",
   "metadata": {},
   "outputs": [],
   "source": [
    "from local_settings import load_input\n",
    "content = load_input(year, day)\n",
    "print(f\"[{content[:100]}...]\")"
   ]
  },
  {
   "cell_type": "markdown",
   "id": "ee4d99ce",
   "metadata": {},
   "source": [
    "# Part 1"
   ]
  },
  {
   "cell_type": "code",
   "execution_count": null,
   "id": "6a7fb3c6",
   "metadata": {},
   "outputs": [],
   "source": [
    "# definitions for first part of problem solution\n",
    "from collections import deque\n",
    "def parseInp(s):\n",
    "    return [tuple(map(int, line.split(\",\"))) for line in s.splitlines()]\n",
    "\n",
    "deltas3d = ((1, 0, 0), (-1, 0, 0), (0, 1, 0), (0, -1, 0), (0, 0, 1), (0, 0, -1))\n",
    "def openSides(l):\n",
    "    s = set(l)\n",
    "    return sum(((x + dx, y + dy, z + dz) not in s\n",
    "                for x, y, z in s\n",
    "                for dx, dy, dz in deltas3d))"
   ]
  },
  {
   "cell_type": "markdown",
   "id": "e749ac16",
   "metadata": {},
   "source": [
    "## Examples:\n",
    "```\n",
    "2,2,2\n",
    "1,2,2\n",
    "3,2,2\n",
    "2,1,2\n",
    "2,3,2\n",
    "2,2,1\n",
    "2,2,3\n",
    "2,2,4\n",
    "2,2,6\n",
    "1,2,5\n",
    "3,2,5\n",
    "2,1,5\n",
    "2,3,5\n",
    "```"
   ]
  },
  {
   "cell_type": "code",
   "execution_count": null,
   "id": "296dd223",
   "metadata": {},
   "outputs": [],
   "source": [
    "# testing the examples\n",
    "ex = \"\"\"2,2,2\n",
    "1,2,2\n",
    "3,2,2\n",
    "2,1,2\n",
    "2,3,2\n",
    "2,2,1\n",
    "2,2,3\n",
    "2,2,4\n",
    "2,2,6\n",
    "1,2,5\n",
    "3,2,5\n",
    "2,1,5\n",
    "2,3,5\"\"\"\n",
    "print(openSides(parseInp(ex)))"
   ]
  },
  {
   "cell_type": "code",
   "execution_count": null,
   "id": "5d07d6f0",
   "metadata": {},
   "outputs": [],
   "source": [
    "# finding the solution\n",
    "print(openSides(parseInp(content)))"
   ]
  },
  {
   "cell_type": "markdown",
   "id": "63f34142",
   "metadata": {},
   "source": [
    "# Part 2"
   ]
  },
  {
   "cell_type": "code",
   "execution_count": null,
   "id": "3dd19ccf",
   "metadata": {},
   "outputs": [],
   "source": [
    "# definitions for second part of a problem solution\n",
    "def enclosedSpace(s, start, limits):\n",
    "    space = set([start])\n",
    "    rem = deque([start])\n",
    "    while rem:\n",
    "        x, y, z = rem.popleft()\n",
    "        for dx, dy, dz in ((1, 0, 0), (-1, 0, 0), (0, 1, 0), (0, -1, 0), (0, 0, 1), (0, 0, -1)):\n",
    "            xx, yy, zz = x + dx, y + dy, z + dz\n",
    "            if (xx, yy, zz) in s or (xx, yy, zz) in space:\n",
    "                continue\n",
    "            if xx < limits[0][0] or xx > limits[0][1]:\n",
    "                return set()\n",
    "            if yy < limits[1][0] or yy > limits[1][1]:\n",
    "                return set()\n",
    "            if zz < limits[2][0] or zz > limits[2][1]:\n",
    "                return set()\n",
    "            space.add((xx, yy, zz))\n",
    "            rem.append((xx, yy, zz))\n",
    "    return space\n",
    "\n",
    "def reallyOpenSides(l):\n",
    "    occupied = set(l)\n",
    "    xs = {x for x, y, z in occupied}\n",
    "    ys = {y for x, y, z in occupied}\n",
    "    zs = {z for x, y, z in occupied}\n",
    "    limits = ((min(xs), max(xs)), (min(ys), max(ys)), (min(zs), max(zs)))\n",
    "    count = 0\n",
    "    enclosed = set()\n",
    "    for x, y, z in l:\n",
    "        for dx, dy, dz in deltas3d:\n",
    "            xx, yy, zz = x + dx, y + dy, z + dz\n",
    "            if (xx, yy, zz) in occupied or (xx, yy, zz) in enclosed:\n",
    "                continue\n",
    "            volume = enclosedSpace(occupied, (xx, yy, zz), limits)\n",
    "            if volume:\n",
    "                enclosed |= volume\n",
    "            else:\n",
    "                count += 1\n",
    "    return count"
   ]
  },
  {
   "cell_type": "markdown",
   "id": "380d3358",
   "metadata": {},
   "source": [
    "## Examples:\n",
    "```\n",
    "```"
   ]
  },
  {
   "cell_type": "code",
   "execution_count": null,
   "id": "f9dcf531",
   "metadata": {},
   "outputs": [],
   "source": [
    "# testing the examples\n",
    "print(reallyOpenSides(parseInp(ex)))"
   ]
  },
  {
   "cell_type": "code",
   "execution_count": null,
   "id": "21d311f1",
   "metadata": {},
   "outputs": [],
   "source": [
    "# finding the solution\n",
    "print(reallyOpenSides(parseInp(content)))"
   ]
  }
 ],
 "metadata": {
  "kernelspec": {
   "display_name": "Python 3.9.13 ('base')",
   "language": "python",
   "name": "python3"
  },
  "language_info": {
   "codemirror_mode": {
    "name": "ipython",
    "version": 3
   },
   "file_extension": ".py",
   "mimetype": "text/x-python",
   "name": "python",
   "nbconvert_exporter": "python",
   "pygments_lexer": "ipython3",
   "version": "3.9.13"
  },
  "vscode": {
   "interpreter": {
    "hash": "4420d077991eef1232340447788bb40f0080a1de6d94bc427a491caf0c238c1b"
   }
  }
 },
 "nbformat": 4,
 "nbformat_minor": 5
}
