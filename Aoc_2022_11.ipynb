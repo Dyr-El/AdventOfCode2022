{
 "cells": [
  {
   "cell_type": "markdown",
   "id": "0f863bc7",
   "metadata": {},
   "source": [
    "# Day 2022-11: Monkey in the Middle"
   ]
  },
  {
   "cell_type": "code",
   "execution_count": null,
   "id": "e7ba6dbf",
   "metadata": {},
   "outputs": [],
   "source": [
    "year = 2022\n",
    "day  = 11"
   ]
  },
  {
   "cell_type": "code",
   "execution_count": null,
   "id": "93f010b0",
   "metadata": {},
   "outputs": [],
   "source": [
    "from local_settings import load_input\n",
    "content = load_input(year, day)\n",
    "print(f\"[{content[:100]}...]\")"
   ]
  },
  {
   "cell_type": "markdown",
   "id": "ee4d99ce",
   "metadata": {},
   "source": [
    "# Part 1"
   ]
  },
  {
   "cell_type": "code",
   "execution_count": null,
   "id": "6a7fb3c6",
   "metadata": {},
   "outputs": [],
   "source": [
    "# definitions for first part of problem solution\n",
    "def parseMonkey(s):\n",
    "    monkeys = list()\n",
    "    divisor = 1\n",
    "    for line in s.splitlines():\n",
    "        if line.strip() == \"\":\n",
    "            monkeys.append(monkey)\n",
    "            continue\n",
    "        tokens = line.split()\n",
    "        if tokens[0] == \"Monkey\":\n",
    "            monkey = dict()\n",
    "        elif tokens[0] == \"Starting\":\n",
    "            div = line.split(\":\")\n",
    "            monkey[\"items\"] = list(map(int, div[1].split(\",\")))\n",
    "        elif tokens[0] == \"Operation:\":\n",
    "            div = line.split(\"=\")\n",
    "            monkey[\"operation\"] = eval(f\"lambda old: {div[-1]}\")\n",
    "        elif tokens[0] == \"Test:\":\n",
    "            monkey[\"divisor\"] = int(tokens[-1])\n",
    "            divisor *= monkey[\"divisor\"]\n",
    "        elif tokens[1] == \"true:\":\n",
    "            monkey[True] = int(tokens[-1])\n",
    "        elif tokens[1] == \"false:\":\n",
    "            monkey[False] = int(tokens[-1])\n",
    "    monkeys.append(monkey)\n",
    "    return monkeys, divisor\n",
    "\n",
    "def doRound(monkeys, worry_reduction, divisor, count):\n",
    "    noMonkeys = len(monkeys)\n",
    "    for monkey_id, monkey in enumerate(monkeys):\n",
    "        for item in monkey[\"items\"]:\n",
    "            count[monkey_id] += 1\n",
    "            worry_level = item\n",
    "            worry_level = (monkey[\"operation\"](worry_level) // worry_reduction) % divisor\n",
    "            monkeys[monkey[worry_level % monkey[\"divisor\"] == 0]][\"items\"].append(worry_level)\n",
    "            monkey[\"items\"] = monkey[\"items\"][1:]\n",
    "\n",
    "def monkeyBusiness(monkeys, rounds, divisor, worry_reduction=3):\n",
    "    count = [0] * len(monkeys)\n",
    "    for round in range(rounds):\n",
    "        doRound(monkeys, worry_reduction, divisor, count)\n",
    "    count.sort()\n",
    "    return count[-1] * count[-2]"
   ]
  },
  {
   "cell_type": "markdown",
   "id": "e749ac16",
   "metadata": {},
   "source": [
    "## Examples:\n",
    "```\n",
    "Monkey 0:\n",
    "  Starting items: 79, 98\n",
    "  Operation: new = old * 19\n",
    "  Test: divisible by 23\n",
    "    If true: throw to monkey 2\n",
    "    If false: throw to monkey 3\n",
    "\n",
    "Monkey 1:\n",
    "  Starting items: 54, 65, 75, 74\n",
    "  Operation: new = old + 6\n",
    "  Test: divisible by 19\n",
    "    If true: throw to monkey 2\n",
    "    If false: throw to monkey 0\n",
    "\n",
    "Monkey 2:\n",
    "  Starting items: 79, 60, 97\n",
    "  Operation: new = old * old\n",
    "  Test: divisible by 13\n",
    "    If true: throw to monkey 1\n",
    "    If false: throw to monkey 3\n",
    "\n",
    "Monkey 3:\n",
    "  Starting items: 74\n",
    "  Operation: new = old + 3\n",
    "  Test: divisible by 17\n",
    "    If true: throw to monkey 0\n",
    "    If false: throw to monkey 1\n",
    "```"
   ]
  },
  {
   "cell_type": "code",
   "execution_count": null,
   "id": "296dd223",
   "metadata": {},
   "outputs": [],
   "source": [
    "# testing the examples\n",
    "ex = \"\"\"Monkey 0:\n",
    "  Starting items: 79, 98\n",
    "  Operation: new = old * 19\n",
    "  Test: divisible by 23\n",
    "    If true: throw to monkey 2\n",
    "    If false: throw to monkey 3\n",
    "\n",
    "Monkey 1:\n",
    "  Starting items: 54, 65, 75, 74\n",
    "  Operation: new = old + 6\n",
    "  Test: divisible by 19\n",
    "    If true: throw to monkey 2\n",
    "    If false: throw to monkey 0\n",
    "\n",
    "Monkey 2:\n",
    "  Starting items: 79, 60, 97\n",
    "  Operation: new = old * old\n",
    "  Test: divisible by 13\n",
    "    If true: throw to monkey 1\n",
    "    If false: throw to monkey 3\n",
    "\n",
    "Monkey 3:\n",
    "  Starting items: 74\n",
    "  Operation: new = old + 3\n",
    "  Test: divisible by 17\n",
    "    If true: throw to monkey 0\n",
    "    If false: throw to monkey 1\"\"\"\n",
    "    \n",
    "monkeys, divisor = parseMonkey(ex)\n",
    "print(monkeyBusiness(monkeys, 20, divisor))"
   ]
  },
  {
   "cell_type": "code",
   "execution_count": null,
   "id": "5d07d6f0",
   "metadata": {},
   "outputs": [],
   "source": [
    "# finding the solution\n",
    "monkeys, divisor = parseMonkey(content)\n",
    "print(monkeyBusiness(monkeys, 20, divisor))"
   ]
  },
  {
   "cell_type": "markdown",
   "id": "63f34142",
   "metadata": {},
   "source": [
    "# Part 2"
   ]
  },
  {
   "cell_type": "code",
   "execution_count": null,
   "id": "3dd19ccf",
   "metadata": {},
   "outputs": [],
   "source": [
    "# definitions for second part of a problem solution"
   ]
  },
  {
   "cell_type": "markdown",
   "id": "380d3358",
   "metadata": {},
   "source": [
    "## Examples:\n",
    "```\n",
    "```"
   ]
  },
  {
   "cell_type": "code",
   "execution_count": null,
   "id": "f9dcf531",
   "metadata": {},
   "outputs": [],
   "source": [
    "# testing the examples\n",
    "monkeys, divisor = parseMonkey(ex)\n",
    "print(monkeyBusiness(monkeys, 10000, divisor, worry_reduction=1))"
   ]
  },
  {
   "cell_type": "code",
   "execution_count": null,
   "id": "21d311f1",
   "metadata": {},
   "outputs": [],
   "source": [
    "# finding the solution\n",
    "monkeys, divisor = parseMonkey(content)\n",
    "print(monkeyBusiness(monkeys, 10000, divisor, worry_reduction=1))"
   ]
  }
 ],
 "metadata": {
  "kernelspec": {
   "display_name": "Python 3.9.13 ('base')",
   "language": "python",
   "name": "python3"
  },
  "language_info": {
   "codemirror_mode": {
    "name": "ipython",
    "version": 3
   },
   "file_extension": ".py",
   "mimetype": "text/x-python",
   "name": "python",
   "nbconvert_exporter": "python",
   "pygments_lexer": "ipython3",
   "version": "3.9.13"
  },
  "vscode": {
   "interpreter": {
    "hash": "4420d077991eef1232340447788bb40f0080a1de6d94bc427a491caf0c238c1b"
   }
  }
 },
 "nbformat": 4,
 "nbformat_minor": 5
}
