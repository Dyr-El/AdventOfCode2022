{
 "cells": [
  {
   "cell_type": "markdown",
   "id": "0f863bc7",
   "metadata": {},
   "source": [
    "# Day 2022-08: _template-title_"
   ]
  },
  {
   "cell_type": "code",
   "execution_count": null,
   "id": "e7ba6dbf",
   "metadata": {},
   "outputs": [],
   "source": [
    "year = 2022\n",
    "day  = 8"
   ]
  },
  {
   "cell_type": "code",
   "execution_count": null,
   "id": "93f010b0",
   "metadata": {},
   "outputs": [],
   "source": [
    "from local_settings import load_input\n",
    "content = load_input(year, day)\n",
    "print(f\"[{content[:100]}...]\")"
   ]
  },
  {
   "cell_type": "markdown",
   "id": "ee4d99ce",
   "metadata": {},
   "source": [
    "# Part 1"
   ]
  },
  {
   "cell_type": "code",
   "execution_count": null,
   "id": "6a7fb3c6",
   "metadata": {},
   "outputs": [],
   "source": [
    "# definitions for first part of problem solution\n",
    "def parseInp(s):\n",
    "    d = dict()\n",
    "    for ri, line in enumerate(s.splitlines()):\n",
    "        for ci, c in enumerate(line):\n",
    "            d[complex(ci, ri)] = int(c)\n",
    "    return d\n",
    "\n",
    "def minMax2d(d):\n",
    "    c1 = [int(c.real) for c in d.keys()]\n",
    "    c2 = [int(c.imag) for c in d.keys()]\n",
    "    return min(c1), max(c1), min(c2), max(c2)\n",
    "\n",
    "def checkVisible(start, dir, heights):\n",
    "    height = -1\n",
    "    pos = start\n",
    "    visibles = set()\n",
    "    while pos in heights:\n",
    "        if heights[pos] > height:\n",
    "            visibles.add(pos)\n",
    "            height = heights[pos]\n",
    "        pos += dir\n",
    "    return visibles\n",
    "\n",
    "def visibleTrees(d):\n",
    "    visibles = set()\n",
    "    minr, maxr, minc, maxc = minMax2d(d)\n",
    "    for r in range(minr, maxr+1):\n",
    "        visibles |= checkVisible(complex(r, minc), complex(0, 1), d)\n",
    "        visibles |= checkVisible(complex(r, maxc), complex(0, -1), d)\n",
    "    for c in range(minc, maxc+1):\n",
    "        visibles |= checkVisible(complex(minr, c), complex(1, 0), d)\n",
    "        visibles |= checkVisible(complex(maxr, c), complex(-1, 0), d)\n",
    "    return visibles"
   ]
  },
  {
   "cell_type": "markdown",
   "id": "e749ac16",
   "metadata": {},
   "source": [
    "## Examples:\n",
    "```\n",
    "```"
   ]
  },
  {
   "cell_type": "code",
   "execution_count": null,
   "id": "296dd223",
   "metadata": {},
   "outputs": [],
   "source": [
    "# testing the examples\n",
    "ex = \"\"\"30373\n",
    "25512\n",
    "65332\n",
    "33549\n",
    "35390\"\"\"\n",
    "d = parseInp(ex)\n",
    "coords = visibleTrees(d)\n",
    "print(len(coords))"
   ]
  },
  {
   "cell_type": "code",
   "execution_count": null,
   "id": "5d07d6f0",
   "metadata": {},
   "outputs": [],
   "source": [
    "# finding the solution\n",
    "d = parseInp(content)\n",
    "coords = visibleTrees(d)\n",
    "print(len(coords))"
   ]
  },
  {
   "cell_type": "markdown",
   "id": "63f34142",
   "metadata": {},
   "source": [
    "# Part 2"
   ]
  },
  {
   "cell_type": "code",
   "execution_count": null,
   "id": "3dd19ccf",
   "metadata": {},
   "outputs": [],
   "source": [
    "# definitions for second part of a problem solution\n",
    "def viewingDist(d, coord):\n",
    "    startHeight = d[coord]\n",
    "    vDist = 1\n",
    "    for dir in (complex(1, 0), complex(-1, 0), complex(0, 1), complex(0, -1)):\n",
    "        noVisible = 0\n",
    "        tree = coord + dir\n",
    "        while tree in d:\n",
    "            noVisible += 1\n",
    "            if d[tree] >= startHeight:\n",
    "                break\n",
    "            tree += dir\n",
    "        vDist *= noVisible\n",
    "    return vDist\n",
    "\n",
    "def bestViewingDist(d, coords):\n",
    "    return max((viewingDist(d, coord) for coord in coords))"
   ]
  },
  {
   "cell_type": "markdown",
   "id": "380d3358",
   "metadata": {},
   "source": [
    "## Examples:\n",
    "```\n",
    "```"
   ]
  },
  {
   "cell_type": "code",
   "execution_count": null,
   "id": "f9dcf531",
   "metadata": {},
   "outputs": [],
   "source": [
    "# testing the examples\n",
    "d = parseInp(ex)\n",
    "coords = visibleTrees(d)\n",
    "print(bestViewingDist(d, coords))"
   ]
  },
  {
   "cell_type": "code",
   "execution_count": null,
   "id": "21d311f1",
   "metadata": {},
   "outputs": [],
   "source": [
    "# finding the solution\n",
    "d = parseInp(content)\n",
    "coords = visibleTrees(d)\n",
    "print(bestViewingDist(d, coords))"
   ]
  }
 ],
 "metadata": {
  "kernelspec": {
   "display_name": "Python 3.9.13 ('base')",
   "language": "python",
   "name": "python3"
  },
  "language_info": {
   "codemirror_mode": {
    "name": "ipython",
    "version": 3
   },
   "file_extension": ".py",
   "mimetype": "text/x-python",
   "name": "python",
   "nbconvert_exporter": "python",
   "pygments_lexer": "ipython3",
   "version": "3.9.13"
  },
  "vscode": {
   "interpreter": {
    "hash": "4420d077991eef1232340447788bb40f0080a1de6d94bc427a491caf0c238c1b"
   }
  }
 },
 "nbformat": 4,
 "nbformat_minor": 5
}
