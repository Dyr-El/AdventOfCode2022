{
 "cells": [
  {
   "cell_type": "markdown",
   "id": "0f863bc7",
   "metadata": {},
   "source": [
    "# Day 2022-17: Pyroclastic Flow"
   ]
  },
  {
   "cell_type": "code",
   "execution_count": null,
   "id": "e7ba6dbf",
   "metadata": {},
   "outputs": [],
   "source": [
    "year = 2022\n",
    "day  = 17"
   ]
  },
  {
   "cell_type": "code",
   "execution_count": null,
   "id": "93f010b0",
   "metadata": {},
   "outputs": [],
   "source": [
    "from local_settings import load_input\n",
    "content = load_input(year, day)\n",
    "print(f\"[{content[:100]}...]\")"
   ]
  },
  {
   "cell_type": "markdown",
   "id": "ee4d99ce",
   "metadata": {},
   "source": [
    "# Part 1"
   ]
  },
  {
   "cell_type": "code",
   "execution_count": null,
   "id": "6a7fb3c6",
   "metadata": {},
   "outputs": [],
   "source": [
    "# definitions for first part of problem solution\n",
    "def parseInput(s):\n",
    "    return [{\">\":complex(1), \"<\":complex(-1)}[c] for c in s if c in \"<>\"]\n",
    "\n",
    "pieceStrs = [\"\"\"####\"\"\", \"\"\".#.\n",
    "###\n",
    ".#.\"\"\", \"\"\"..#\n",
    "..#\n",
    "###\"\"\", \"\"\"#\n",
    "#\n",
    "#\n",
    "#\"\"\", \"\"\"##\n",
    "##\"\"\"]\n",
    "\n",
    "def pieceSet():\n",
    "    pl = list()\n",
    "    for ps in pieceStrs:\n",
    "        d = set()\n",
    "        minx, miny = 0, 0\n",
    "        for y, line in enumerate(ps.splitlines()):\n",
    "            for x, c in enumerate(line):\n",
    "                if c == \"#\":\n",
    "                    minx = min(x, minx)\n",
    "                    miny = min(-y, miny)\n",
    "                    d.add(complex(x, -y))\n",
    "        d = {coord - complex(minx, miny) for coord in d}\n",
    "        # print(d)\n",
    "        pl.append(d)\n",
    "    return pl\n",
    "\n",
    "pieces = pieceSet()\n",
    "noPieces = len(pieces)\n",
    "\n",
    "def height(m):\n",
    "    return int(max((r.imag for r in m)))\n",
    "\n",
    "def collision(piece, offset, m):\n",
    "    for coord in piece:\n",
    "        offsetCord = coord + offset\n",
    "        if offsetCord in m:\n",
    "            return False\n",
    "        if not (0 <= offsetCord.real <= 6):\n",
    "            return False\n",
    "    return True\n",
    "\n",
    "def fallingRock(rockMap, piece, windPattern, round):\n",
    "    pos = complex(2, height(rockMap) + 4)\n",
    "    move = windPattern[round]\n",
    "    round = (round + 1) % len(windPattern)\n",
    "    while True:\n",
    "        newPos = pos + move\n",
    "        if not collision(piece, newPos, rockMap): \n",
    "            newPos = pos\n",
    "        pos = newPos\n",
    "        newPos = pos - complex(0, 1)\n",
    "        if not collision(piece, newPos, rockMap):\n",
    "            rockMap.update({coord + pos for coord in piece})\n",
    "            return round\n",
    "        pos = newPos\n",
    "        move = windPattern[round]\n",
    "        round = (round + 1) % len(windPattern)\n",
    "\n",
    "def fallingRocks(pl, windPattern, noMoves):\n",
    "    m = {complex(x, 0) for x in range(7)}\n",
    "    round = 0\n",
    "    s = dict()\n",
    "    move = 0\n",
    "    extraheight = 0\n",
    "    skip = None\n",
    "    repetitions = 2\n",
    "    while move < noMoves and (skip is None or skip + move < noMoves):\n",
    "        idx = (round, move % len(pl))\n",
    "        if idx in s and skip is None:\n",
    "            if len(s[idx]) > repetitions:\n",
    "                last = [(p1[0] - p2[0], p1[1] - p2[1]) \n",
    "                        for p1, p2 in zip(s[idx][-repetitions:], s[idx][-(repetitions - 1):])]\n",
    "                if all((last[0] == ll for ll in last)):\n",
    "                    skipDelta, heightDelta = -last[0][0], -last[0][1]\n",
    "                    skipCycles = (noMoves - move) // skipDelta\n",
    "                    skip = skipDelta * skipCycles\n",
    "                    print(\"Stable change .. skipping\", skip, heightDelta * skipCycles)\n",
    "                    extraheight += heightDelta * skipCycles\n",
    "                    continue\n",
    "        else:\n",
    "            s[idx] = list()\n",
    "        s[idx].append((move, height(m)))\n",
    "        round = fallingRock(m, pl[move % noPieces], windPattern, round)\n",
    "        move += 1\n",
    "    return height(m) + extraheight"
   ]
  },
  {
   "cell_type": "markdown",
   "id": "e749ac16",
   "metadata": {},
   "source": [
    "## Examples:\n",
    "```\n",
    ">>><<><>><<<>><>>><<<>>><<<><<<>><>><<>>\n",
    "```"
   ]
  },
  {
   "cell_type": "code",
   "execution_count": null,
   "id": "296dd223",
   "metadata": {},
   "outputs": [],
   "source": [
    "# testing the examples\n",
    "windPattern = parseInput(\">>><<><>><<<>><>>><<<>>><<<><<<>><>><<>>\")\n",
    "print(fallingRocks(pieces, windPattern, 2022))"
   ]
  },
  {
   "cell_type": "code",
   "execution_count": null,
   "id": "5d07d6f0",
   "metadata": {},
   "outputs": [],
   "source": [
    "# finding the solution\n",
    "windPattern = parseInput(content)\n",
    "print(fallingRocks(pieces, windPattern, 2022))"
   ]
  },
  {
   "cell_type": "markdown",
   "id": "63f34142",
   "metadata": {},
   "source": [
    "# Part 2"
   ]
  },
  {
   "cell_type": "code",
   "execution_count": null,
   "id": "3dd19ccf",
   "metadata": {},
   "outputs": [],
   "source": [
    "# definitions for second part of a problem solution"
   ]
  },
  {
   "cell_type": "markdown",
   "id": "380d3358",
   "metadata": {},
   "source": [
    "## Examples:\n",
    "```\n",
    "```"
   ]
  },
  {
   "cell_type": "code",
   "execution_count": null,
   "id": "f9dcf531",
   "metadata": {},
   "outputs": [],
   "source": [
    "# testing the examples\n",
    "windPattern = parseInput(\">>><<><>><<<>><>>><<<>>><<<><<<>><>><<>>\")\n",
    "print(fallingRocks(pieces, windPattern, 1_000_000_000_000))"
   ]
  },
  {
   "cell_type": "code",
   "execution_count": null,
   "id": "21d311f1",
   "metadata": {},
   "outputs": [],
   "source": [
    "# finding the solution\n",
    "windPattern = parseInput(content)\n",
    "print(fallingRocks(pieces, windPattern, 1_000_000_000_000))"
   ]
  }
 ],
 "metadata": {
  "kernelspec": {
   "display_name": "Python 3.9.13 ('base')",
   "language": "python",
   "name": "python3"
  },
  "language_info": {
   "codemirror_mode": {
    "name": "ipython",
    "version": 3
   },
   "file_extension": ".py",
   "mimetype": "text/x-python",
   "name": "python",
   "nbconvert_exporter": "python",
   "pygments_lexer": "ipython3",
   "version": "3.9.13"
  },
  "vscode": {
   "interpreter": {
    "hash": "4420d077991eef1232340447788bb40f0080a1de6d94bc427a491caf0c238c1b"
   }
  }
 },
 "nbformat": 4,
 "nbformat_minor": 5
}
